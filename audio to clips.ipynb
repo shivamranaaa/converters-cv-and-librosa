{
 "cells": [
  {
   "cell_type": "markdown",
   "id": "930fc209",
   "metadata": {},
   "source": [
    "# Big Drone"
   ]
  },
  {
   "cell_type": "code",
   "execution_count": 1,
   "id": "16e54058",
   "metadata": {},
   "outputs": [
    {
     "name": "stderr",
     "output_type": "stream",
     "text": [
      "C:\\Users\\shiva\\anaconda3\\lib\\site-packages\\paramiko\\transport.py:219: CryptographyDeprecationWarning: Blowfish has been deprecated\n",
      "  \"class\": algorithms.Blowfish,\n"
     ]
    }
   ],
   "source": [
    "import librosa\n",
    "import soundfile as sf"
   ]
  },
  {
   "cell_type": "code",
   "execution_count": 2,
   "id": "49469ef1",
   "metadata": {},
   "outputs": [],
   "source": [
    "audio,sampling_rate=librosa.load(r\"C:\\Users\\shiva\\Downloads\\mix_21m44s (audio-joiner.com).mp3\",sr=None,mono=True)"
   ]
  },
  {
   "cell_type": "code",
   "execution_count": 3,
   "id": "6c3836e3",
   "metadata": {},
   "outputs": [
    {
     "data": {
      "text/plain": [
       "44100"
      ]
     },
     "execution_count": 3,
     "metadata": {},
     "output_type": "execute_result"
    }
   ],
   "source": [
    "sampling_rate"
   ]
  },
  {
   "cell_type": "code",
   "execution_count": 4,
   "id": "2087d7fd",
   "metadata": {},
   "outputs": [
    {
     "data": {
      "text/plain": [
       "220500"
      ]
     },
     "execution_count": 4,
     "metadata": {},
     "output_type": "execute_result"
    }
   ],
   "source": [
    "44100*5"
   ]
  },
  {
   "cell_type": "code",
   "execution_count": 5,
   "id": "0370c7a1",
   "metadata": {},
   "outputs": [
    {
     "data": {
      "text/plain": [
       "(57549179,)"
      ]
     },
     "execution_count": 5,
     "metadata": {},
     "output_type": "execute_result"
    }
   ],
   "source": [
    "audio.shape"
   ]
  },
  {
   "cell_type": "code",
   "execution_count": 6,
   "id": "8bc997f0",
   "metadata": {},
   "outputs": [
    {
     "data": {
      "text/plain": [
       "57549179"
      ]
     },
     "execution_count": 6,
     "metadata": {},
     "output_type": "execute_result"
    }
   ],
   "source": [
    "len(audio)"
   ]
  },
  {
   "cell_type": "code",
   "execution_count": 7,
   "id": "649cbc5d",
   "metadata": {
    "scrolled": true
   },
   "outputs": [
    {
     "name": "stdout",
     "output_type": "stream",
     "text": [
      "saved 0 file\n",
      "saved 1 file\n",
      "saved 2 file\n",
      "saved 3 file\n",
      "saved 4 file\n",
      "saved 5 file\n",
      "saved 6 file\n",
      "saved 7 file\n",
      "saved 8 file\n",
      "saved 9 file\n",
      "saved 10 file\n",
      "saved 11 file\n",
      "saved 12 file\n",
      "saved 13 file\n",
      "saved 14 file\n",
      "saved 15 file\n",
      "saved 16 file\n",
      "saved 17 file\n",
      "saved 18 file\n",
      "saved 19 file\n",
      "saved 20 file\n",
      "saved 21 file\n",
      "saved 22 file\n",
      "saved 23 file\n",
      "saved 24 file\n",
      "saved 25 file\n",
      "saved 26 file\n",
      "saved 27 file\n",
      "saved 28 file\n",
      "saved 29 file\n",
      "saved 30 file\n",
      "saved 31 file\n",
      "saved 32 file\n",
      "saved 33 file\n",
      "saved 34 file\n",
      "saved 35 file\n",
      "saved 36 file\n",
      "saved 37 file\n",
      "saved 38 file\n",
      "saved 39 file\n",
      "saved 40 file\n",
      "saved 41 file\n",
      "saved 42 file\n",
      "saved 43 file\n",
      "saved 44 file\n",
      "saved 45 file\n",
      "saved 46 file\n",
      "saved 47 file\n",
      "saved 48 file\n",
      "saved 49 file\n",
      "saved 50 file\n",
      "saved 51 file\n",
      "saved 52 file\n",
      "saved 53 file\n",
      "saved 54 file\n",
      "saved 55 file\n",
      "saved 56 file\n",
      "saved 57 file\n",
      "saved 58 file\n",
      "saved 59 file\n",
      "saved 60 file\n",
      "saved 61 file\n",
      "saved 62 file\n",
      "saved 63 file\n",
      "saved 64 file\n",
      "saved 65 file\n",
      "saved 66 file\n",
      "saved 67 file\n",
      "saved 68 file\n",
      "saved 69 file\n",
      "saved 70 file\n",
      "saved 71 file\n",
      "saved 72 file\n",
      "saved 73 file\n",
      "saved 74 file\n",
      "saved 75 file\n",
      "saved 76 file\n",
      "saved 77 file\n",
      "saved 78 file\n",
      "saved 79 file\n",
      "saved 80 file\n",
      "saved 81 file\n",
      "saved 82 file\n",
      "saved 83 file\n",
      "saved 84 file\n",
      "saved 85 file\n",
      "saved 86 file\n",
      "saved 87 file\n",
      "saved 88 file\n",
      "saved 89 file\n",
      "saved 90 file\n",
      "saved 91 file\n",
      "saved 92 file\n",
      "saved 93 file\n",
      "saved 94 file\n",
      "saved 95 file\n",
      "saved 96 file\n",
      "saved 97 file\n",
      "saved 98 file\n",
      "saved 99 file\n",
      "saved 100 file\n",
      "saved 101 file\n",
      "saved 102 file\n",
      "saved 103 file\n",
      "saved 104 file\n",
      "saved 105 file\n",
      "saved 106 file\n",
      "saved 107 file\n",
      "saved 108 file\n",
      "saved 109 file\n",
      "saved 110 file\n",
      "saved 111 file\n",
      "saved 112 file\n",
      "saved 113 file\n",
      "saved 114 file\n",
      "saved 115 file\n",
      "saved 116 file\n",
      "saved 117 file\n",
      "saved 118 file\n",
      "saved 119 file\n",
      "saved 120 file\n",
      "saved 121 file\n",
      "saved 122 file\n",
      "saved 123 file\n",
      "saved 124 file\n",
      "saved 125 file\n",
      "saved 126 file\n",
      "saved 127 file\n",
      "saved 128 file\n",
      "saved 129 file\n",
      "saved 130 file\n",
      "saved 131 file\n",
      "saved 132 file\n",
      "saved 133 file\n",
      "saved 134 file\n",
      "saved 135 file\n",
      "saved 136 file\n",
      "saved 137 file\n",
      "saved 138 file\n",
      "saved 139 file\n",
      "saved 140 file\n",
      "saved 141 file\n",
      "saved 142 file\n",
      "saved 143 file\n",
      "saved 144 file\n",
      "saved 145 file\n",
      "saved 146 file\n",
      "saved 147 file\n",
      "saved 148 file\n",
      "saved 149 file\n",
      "saved 150 file\n",
      "saved 151 file\n",
      "saved 152 file\n",
      "saved 153 file\n",
      "saved 154 file\n",
      "saved 155 file\n",
      "saved 156 file\n",
      "saved 157 file\n",
      "saved 158 file\n",
      "saved 159 file\n",
      "saved 160 file\n",
      "saved 161 file\n",
      "saved 162 file\n",
      "saved 163 file\n",
      "saved 164 file\n",
      "saved 165 file\n",
      "saved 166 file\n",
      "saved 167 file\n",
      "saved 168 file\n",
      "saved 169 file\n",
      "saved 170 file\n",
      "saved 171 file\n",
      "saved 172 file\n",
      "saved 173 file\n",
      "saved 174 file\n",
      "saved 175 file\n",
      "saved 176 file\n",
      "saved 177 file\n",
      "saved 178 file\n",
      "saved 179 file\n",
      "saved 180 file\n",
      "saved 181 file\n",
      "saved 182 file\n",
      "saved 183 file\n",
      "saved 184 file\n",
      "saved 185 file\n",
      "saved 186 file\n",
      "saved 187 file\n",
      "saved 188 file\n",
      "saved 189 file\n",
      "saved 190 file\n",
      "saved 191 file\n",
      "saved 192 file\n",
      "saved 193 file\n",
      "saved 194 file\n",
      "saved 195 file\n",
      "saved 196 file\n",
      "saved 197 file\n",
      "saved 198 file\n",
      "saved 199 file\n",
      "saved 200 file\n",
      "saved 201 file\n",
      "saved 202 file\n",
      "saved 203 file\n",
      "saved 204 file\n",
      "saved 205 file\n",
      "saved 206 file\n",
      "saved 207 file\n",
      "saved 208 file\n",
      "saved 209 file\n",
      "saved 210 file\n",
      "saved 211 file\n",
      "saved 212 file\n",
      "saved 213 file\n",
      "saved 214 file\n",
      "saved 215 file\n",
      "saved 216 file\n",
      "saved 217 file\n",
      "saved 218 file\n",
      "saved 219 file\n",
      "saved 220 file\n",
      "saved 221 file\n",
      "saved 222 file\n",
      "saved 223 file\n",
      "saved 224 file\n",
      "saved 225 file\n",
      "saved 226 file\n",
      "saved 227 file\n",
      "saved 228 file\n",
      "saved 229 file\n",
      "saved 230 file\n",
      "saved 231 file\n",
      "saved 232 file\n",
      "saved 233 file\n",
      "saved 234 file\n",
      "saved 235 file\n",
      "saved 236 file\n",
      "saved 237 file\n",
      "saved 238 file\n",
      "saved 239 file\n",
      "saved 240 file\n",
      "saved 241 file\n",
      "saved 242 file\n",
      "saved 243 file\n",
      "saved 244 file\n",
      "saved 245 file\n",
      "saved 246 file\n",
      "saved 247 file\n",
      "saved 248 file\n",
      "saved 249 file\n",
      "saved 250 file\n",
      "saved 251 file\n",
      "saved 252 file\n",
      "saved 253 file\n",
      "saved 254 file\n",
      "saved 255 file\n",
      "saved 256 file\n",
      "saved 257 file\n",
      "saved 258 file\n",
      "saved 259 file\n",
      "saved 260 file\n"
     ]
    }
   ],
   "source": [
    "for i,j in enumerate(range(0,57549179,220500)):\n",
    "    song=audio[j:j+220500]\n",
    "    sf.write(f'audio/audio chunks/big drone/big_drone{i}.wav', song, 44100) \n",
    "    print(f\"saved {i} file\")"
   ]
  },
  {
   "cell_type": "markdown",
   "id": "2d8954dd",
   "metadata": {},
   "source": [
    "# Small Drone"
   ]
  },
  {
   "cell_type": "code",
   "execution_count": 8,
   "id": "9869967d",
   "metadata": {},
   "outputs": [],
   "source": [
    "import librosa\n",
    "import soundfile as sf"
   ]
  },
  {
   "cell_type": "code",
   "execution_count": 9,
   "id": "c2ed2e58",
   "metadata": {},
   "outputs": [],
   "source": [
    "audio,sampling_rate=librosa.load(r\"C:\\Users\\shiva\\Downloads\\mix_9m14s (audio-joiner.com).mp3\",sr=None,mono=True)"
   ]
  },
  {
   "cell_type": "code",
   "execution_count": 10,
   "id": "5f21860f",
   "metadata": {},
   "outputs": [
    {
     "data": {
      "text/plain": [
       "48000"
      ]
     },
     "execution_count": 10,
     "metadata": {},
     "output_type": "execute_result"
    }
   ],
   "source": [
    "sampling_rate"
   ]
  },
  {
   "cell_type": "code",
   "execution_count": 11,
   "id": "994a1f02",
   "metadata": {},
   "outputs": [
    {
     "data": {
      "text/plain": [
       "220500"
      ]
     },
     "execution_count": 11,
     "metadata": {},
     "output_type": "execute_result"
    }
   ],
   "source": [
    "44100*5"
   ]
  },
  {
   "cell_type": "code",
   "execution_count": 12,
   "id": "e6ae7568",
   "metadata": {},
   "outputs": [
    {
     "data": {
      "text/plain": [
       "(26591021,)"
      ]
     },
     "execution_count": 12,
     "metadata": {},
     "output_type": "execute_result"
    }
   ],
   "source": [
    "audio.shape"
   ]
  },
  {
   "cell_type": "code",
   "execution_count": 13,
   "id": "7cca9cd4",
   "metadata": {},
   "outputs": [
    {
     "data": {
      "text/plain": [
       "26591021"
      ]
     },
     "execution_count": 13,
     "metadata": {},
     "output_type": "execute_result"
    }
   ],
   "source": [
    "len(audio)"
   ]
  },
  {
   "cell_type": "code",
   "execution_count": 14,
   "id": "4cf59d19",
   "metadata": {
    "scrolled": true
   },
   "outputs": [
    {
     "name": "stdout",
     "output_type": "stream",
     "text": [
      "saved 0 file\n",
      "saved 1 file\n",
      "saved 2 file\n",
      "saved 3 file\n",
      "saved 4 file\n",
      "saved 5 file\n",
      "saved 6 file\n",
      "saved 7 file\n",
      "saved 8 file\n",
      "saved 9 file\n",
      "saved 10 file\n",
      "saved 11 file\n",
      "saved 12 file\n",
      "saved 13 file\n",
      "saved 14 file\n",
      "saved 15 file\n",
      "saved 16 file\n",
      "saved 17 file\n",
      "saved 18 file\n",
      "saved 19 file\n",
      "saved 20 file\n",
      "saved 21 file\n",
      "saved 22 file\n",
      "saved 23 file\n",
      "saved 24 file\n",
      "saved 25 file\n",
      "saved 26 file\n",
      "saved 27 file\n",
      "saved 28 file\n",
      "saved 29 file\n",
      "saved 30 file\n",
      "saved 31 file\n",
      "saved 32 file\n",
      "saved 33 file\n",
      "saved 34 file\n",
      "saved 35 file\n",
      "saved 36 file\n",
      "saved 37 file\n",
      "saved 38 file\n",
      "saved 39 file\n",
      "saved 40 file\n",
      "saved 41 file\n",
      "saved 42 file\n",
      "saved 43 file\n",
      "saved 44 file\n",
      "saved 45 file\n",
      "saved 46 file\n",
      "saved 47 file\n",
      "saved 48 file\n",
      "saved 49 file\n",
      "saved 50 file\n",
      "saved 51 file\n",
      "saved 52 file\n",
      "saved 53 file\n",
      "saved 54 file\n",
      "saved 55 file\n",
      "saved 56 file\n",
      "saved 57 file\n",
      "saved 58 file\n",
      "saved 59 file\n",
      "saved 60 file\n",
      "saved 61 file\n",
      "saved 62 file\n",
      "saved 63 file\n",
      "saved 64 file\n",
      "saved 65 file\n",
      "saved 66 file\n",
      "saved 67 file\n",
      "saved 68 file\n",
      "saved 69 file\n",
      "saved 70 file\n",
      "saved 71 file\n",
      "saved 72 file\n",
      "saved 73 file\n",
      "saved 74 file\n",
      "saved 75 file\n",
      "saved 76 file\n",
      "saved 77 file\n",
      "saved 78 file\n",
      "saved 79 file\n",
      "saved 80 file\n",
      "saved 81 file\n",
      "saved 82 file\n",
      "saved 83 file\n",
      "saved 84 file\n",
      "saved 85 file\n",
      "saved 86 file\n",
      "saved 87 file\n",
      "saved 88 file\n",
      "saved 89 file\n",
      "saved 90 file\n",
      "saved 91 file\n",
      "saved 92 file\n",
      "saved 93 file\n",
      "saved 94 file\n",
      "saved 95 file\n",
      "saved 96 file\n",
      "saved 97 file\n",
      "saved 98 file\n",
      "saved 99 file\n",
      "saved 100 file\n",
      "saved 101 file\n",
      "saved 102 file\n",
      "saved 103 file\n",
      "saved 104 file\n",
      "saved 105 file\n",
      "saved 106 file\n",
      "saved 107 file\n",
      "saved 108 file\n",
      "saved 109 file\n",
      "saved 110 file\n",
      "saved 111 file\n",
      "saved 112 file\n",
      "saved 113 file\n",
      "saved 114 file\n",
      "saved 115 file\n",
      "saved 116 file\n",
      "saved 117 file\n",
      "saved 118 file\n",
      "saved 119 file\n",
      "saved 120 file\n"
     ]
    }
   ],
   "source": [
    "for i,j in enumerate(range(0,len(audio),44100*5)):\n",
    "    song=audio[j:j+220500]\n",
    "    sf.write(f'audio/audio chunks/small drone/small_drone{i}.wav', song, 44100) \n",
    "    print(f\"saved {i} file\")"
   ]
  }
 ],
 "metadata": {
  "kernelspec": {
   "display_name": "Python 3 (ipykernel)",
   "language": "python",
   "name": "python3"
  },
  "language_info": {
   "codemirror_mode": {
    "name": "ipython",
    "version": 3
   },
   "file_extension": ".py",
   "mimetype": "text/x-python",
   "name": "python",
   "nbconvert_exporter": "python",
   "pygments_lexer": "ipython3",
   "version": "3.9.13"
  }
 },
 "nbformat": 4,
 "nbformat_minor": 5
}
